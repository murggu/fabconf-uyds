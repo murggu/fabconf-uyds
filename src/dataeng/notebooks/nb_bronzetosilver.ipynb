{
  "cells": [
    {
      "cell_type": "code",
      "execution_count": null,
      "metadata": {
        "collapsed": false,
        "jupyter": {
          "outputs_hidden": false,
          "source_hidden": false
        },
        "microsoft": {
          "language": "sparksql"
        },
        "nteract": {
          "transient": {
            "deleting": false
          }
        }
      },
      "outputs": [],
      "source": [
        "%%sql\n",
        "CREATE DATABASE IF NOT EXISTS silverdb"
      ]
    },
    {
      "cell_type": "code",
      "execution_count": null,
      "metadata": {
        "jupyter": {
          "outputs_hidden": false,
          "source_hidden": false
        },
        "nteract": {
          "transient": {
            "deleting": false
          }
        }
      },
      "outputs": [],
      "source": [
        "def process_table(bronze_path, silver_path, table_name):\n",
        "    rawDF = spark.read.format(\"parquet\").load(f\"{bronze_path}{table_name}.parquet\")\n",
        "    rawDF.write.format(\"delta\").mode(\"overwrite\")\\\n",
        "        .option(\"path\", f\"{silver_path}{table_name}\")\\\n",
        "        .saveAsTable(f\"silverdb.{table_name}\")"
      ]
    },
    {
      "cell_type": "code",
      "execution_count": null,
      "metadata": {
        "jupyter": {
          "outputs_hidden": false,
          "source_hidden": false
        },
        "nteract": {
          "transient": {
            "deleting": false
          }
        }
      },
      "outputs": [],
      "source": [
        "bronze_path = \"abfss://bronze@stfabuydssyn.dfs.core.windows.net/advw2019murggu/\"\n",
        "silver_path = \"abfss://silver@stfabuydssyn.dfs.core.windows.net/advw2019murggu/\"\n",
        "\n",
        "tables = ['SalesLTAddress', 'SalesLTCustomer', 'SalesLTCustomerAddress', 'SalesLTProduct', \n",
        "'SalesLTProductCategory', 'SalesLTProductDescription', 'SalesLTProductModel', 'SalesLTProductModelProductDescription',\n",
        "'SalesLTSalesOrderDetail', 'SalesLTSalesOrderHeader']\n",
        "\n",
        "for table in tables:\n",
        "    process_table(bronze_path, silver_path, table)"
      ]
    }
  ],
  "metadata": {
    "description": null,
    "kernel_info": {
      "name": "synapse_pyspark"
    },
    "kernelspec": {
      "display_name": "Synapse PySpark",
      "language": "Python",
      "name": "synapse_pyspark"
    },
    "language_info": {
      "name": "python"
    },
    "save_output": true,
    "synapse_widget": {
      "state": {},
      "version": "0.1"
    }
  },
  "nbformat": 4,
  "nbformat_minor": 2
}
